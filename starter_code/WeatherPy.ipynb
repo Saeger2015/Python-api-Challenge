{
 "cells": [
  {
   "cell_type": "markdown",
   "metadata": {},
   "source": [
    "# WeatherPy\n",
    "----\n",
    "\n",
    "#### Note\n",
    "* Instructions have been included for each segment. You do not have to follow them exactly, but they are included to help you think through the steps."
   ]
  },
  {
   "cell_type": "code",
   "execution_count": 1,
   "metadata": {},
   "outputs": [],
   "source": [
    "#!pip install citipy"
   ]
  },
  {
   "cell_type": "code",
   "execution_count": 2,
   "metadata": {
    "scrolled": true
   },
   "outputs": [],
   "source": [
    "# Dependencies and Setup\n",
    "import matplotlib.pyplot as plt\n",
    "import pandas as pd\n",
    "import numpy as np\n",
    "import requests\n",
    "import time\n",
    "import pprint \n",
    "import datetime\n",
    "from scipy.stats import linregress\n",
    "\n",
    "\n",
    "%matplotlib inline\n",
    "\n",
    "# Import API key\n",
    "from api_keys import weather_api_key\n",
    "\n",
    "# Incorporated citipy to determine city based on latitude and longitude\n",
    "from citipy import citipy\n",
    "\n",
    "# Output File (CSV)\n",
    "output_data_file = \"../output_data/cities.csv\"\n",
    "\n",
    "# Range of latitudes and longitudes\n",
    "lat_range = (-90, 90)\n",
    "lng_range = (-180, 180)"
   ]
  },
  {
   "cell_type": "code",
   "execution_count": null,
   "metadata": {},
   "outputs": [],
   "source": []
  },
  {
   "cell_type": "markdown",
   "metadata": {},
   "source": [
    "## Generate Cities List"
   ]
  },
  {
   "cell_type": "code",
   "execution_count": 3,
   "metadata": {},
   "outputs": [
    {
     "name": "stdout",
     "output_type": "stream",
     "text": [
      "44\n",
      "['bluff', 'sheridan', 'sioux lookout', 'cape town', 'albany', 'ushuaia', 'new norfolk', 'puerto cabezas', 'comodoro rivadavia', 'petropavlovka', 'vila velha', 'aklavik', 'taolanaro', 'maniitsoq', 'constitucion', 'luderitz', 'arcata', 'kununurra', 'qaanaaq', 'parkes', 'rikitea', 'saint-philippe', 'san andres', 'ilulissat', 'broome', 'camopi', 'port blair', 'naze', 'port alfred', 'geraldton', 'liuzhou', 'gisborne', 'vaini', 'leningradskiy', 'staryy nadym', 'kalmunai', 'belushya guba', 'biak', 'vega de alatorre', 'avarua', 'kupang', 'castro', 'mar del plata', 'pevek']\n"
     ]
    }
   ],
   "source": [
    "# List for holding lat_lngs and cities\n",
    "lat_lngs = []\n",
    "cities = []\n",
    "\n",
    "# Create a set of random lat and lng combinations\n",
    "lats = np.random.uniform(lat_range[0], lat_range[1], size=50)\n",
    "lngs = np.random.uniform(lng_range[0], lng_range[1], size=50)\n",
    "lat_lngs = zip(lats, lngs)\n",
    "\n",
    "# Identify nearest city for each lat, lng combination\n",
    "for lat_lng in lat_lngs:\n",
    "    city = citipy.nearest_city(lat_lng[0], lat_lng[1]).city_name\n",
    "    \n",
    "    # If the city is unique, then add it to a our cities list\n",
    "    if city not in cities:\n",
    "        cities.append(city)\n",
    "\n",
    "# Print the city count to confirm sufficient count\n",
    "print(len(cities))\n",
    "print(cities)"
   ]
  },
  {
   "cell_type": "markdown",
   "metadata": {},
   "source": [
    "### Perform API Calls\n",
    "* Perform a weather check on each city using a series of successive API calls.\n",
    "* Include a print log of each city as it'sbeing processed (with the city number and city name).\n"
   ]
  },
  {
   "cell_type": "code",
   "execution_count": 4,
   "metadata": {
    "scrolled": true
   },
   "outputs": [],
   "source": [
    "pp = pprint.PrettyPrinter(indent=4)"
   ]
  },
  {
   "cell_type": "code",
   "execution_count": 5,
   "metadata": {},
   "outputs": [
    {
     "name": "stdout",
     "output_type": "stream",
     "text": [
      "Processing Record 1 of Set1: bluff\n",
      "Processing Record 2 of Set1: sheridan\n",
      "Processing Record 3 of Set1: sioux lookout\n",
      "Processing Record 4 of Set1: cape town\n",
      "Processing Record 5 of Set1: albany\n",
      "Processing Record 6 of Set1: ushuaia\n",
      "Processing Record 7 of Set1: new norfolk\n",
      "Processing Record 8 of Set1: puerto cabezas\n",
      "Processing Record 9 of Set1: comodoro rivadavia\n",
      "Processing Record 10 of Set1: petropavlovka\n",
      "Processing Record 11 of Set1: vila velha\n",
      "Processing Record 12 of Set1: aklavik\n",
      "City not found. Skipping...\n",
      "Processing Record 13 of Set1: maniitsoq\n",
      "Processing Record 14 of Set1: constitucion\n",
      "Processing Record 15 of Set1: luderitz\n",
      "Processing Record 16 of Set1: arcata\n",
      "Processing Record 17 of Set1: kununurra\n",
      "Processing Record 18 of Set1: qaanaaq\n",
      "Processing Record 19 of Set1: parkes\n",
      "Processing Record 20 of Set1: rikitea\n",
      "Processing Record 21 of Set1: saint-philippe\n",
      "Processing Record 22 of Set1: san andres\n",
      "Processing Record 23 of Set1: ilulissat\n",
      "Processing Record 24 of Set1: broome\n",
      "Processing Record 25 of Set1: camopi\n",
      "Processing Record 26 of Set1: port blair\n",
      "Processing Record 27 of Set1: naze\n",
      "Processing Record 28 of Set1: port alfred\n",
      "Processing Record 29 of Set1: geraldton\n",
      "Processing Record 30 of Set1: liuzhou\n",
      "Processing Record 31 of Set1: gisborne\n",
      "Processing Record 32 of Set1: vaini\n",
      "Processing Record 33 of Set1: leningradskiy\n",
      "Processing Record 34 of Set1: staryy nadym\n",
      "Processing Record 35 of Set1: kalmunai\n",
      "City not found. Skipping...\n",
      "Processing Record 36 of Set1: biak\n",
      "Processing Record 37 of Set1: vega de alatorre\n",
      "Processing Record 38 of Set1: avarua\n",
      "Processing Record 39 of Set1: kupang\n",
      "Processing Record 40 of Set1: castro\n",
      "Processing Record 41 of Set1: mar del plata\n",
      "Processing Record 42 of Set1: pevek\n"
     ]
    }
   ],
   "source": [
    "City_name = []\n",
    "Lat = []\n",
    "Lng = []\n",
    "Max_Temp = []\n",
    "Humidity = []\n",
    "Cloudiness = []\n",
    "Wind_Speed = []\n",
    "Country = []\n",
    "Date = []\n",
    "\n",
    "index_counter = 0\n",
    "\n",
    "set_counter = 1\n",
    "\n",
    "limit = 50\n",
    "\n",
    "new_limit = 49\n",
    "\n",
    "for index, city in enumerate(cities, 1):\n",
    "    \n",
    "    base_url = \"http://api.openweathermap.org/data/2.5/weather?\"\n",
    "    query = base_url + \"appid=\" + weather_api_key + '&units=imperial' + \"&q=\" + city\n",
    "    response = requests.get(query)\n",
    "    city_json = response.json()\n",
    "    \n",
    "    try:\n",
    "        \n",
    "        City_name.append(city_json['name'])\n",
    "        Lat.append(city_json[\"coord\"]['lat'])\n",
    "        Lng.append(city_json[\"coord\"]['lon'])\n",
    "        Max_Temp.append(city_json['main']['temp_max'])\n",
    "        Humidity.append(city_json['main']['humidity'])\n",
    "        Cloudiness.append(city_json['clouds']['all'])\n",
    "        Wind_Speed.append(city_json[\"wind\"][\"speed\"])\n",
    "        Country.append(city_json['sys']['country'])\n",
    "        Date.append(city_json['dt'])\n",
    "        if index_counter == limit:\n",
    "            limit = new_limit\n",
    "            index_counter = 0\n",
    "            set_counter = set_counter + 1\n",
    "            \n",
    "        else:\n",
    "            index_counter = index_counter + 1\n",
    "        print(f'Processing Record {index_counter} of Set{set_counter}: {city}')\n",
    "    \n",
    "    except:\n",
    "        print('City not found. Skipping...')\n",
    "        time.sleep(2)\n",
    "        \n",
    "\n",
    "  \n",
    "city_data = pd.DataFrame({'City':City_name,\n",
    "                          'Lat':Lat,\n",
    "                          'Lng':Lng,\n",
    "                          'Max Temp':Max_Temp,\n",
    "                          'Humidity':Humidity,\n",
    "                          'Cloudiness':Cloudiness,\n",
    "                          'Wind Speed':Wind_Speed,\n",
    "                          'Country':Country,\n",
    "                          'Date':Date})"
   ]
  },
  {
   "cell_type": "markdown",
   "metadata": {},
   "source": [
    "### Convert Raw Data to DataFrame\n",
    "* Export the city data into a .csv.\n",
    "* Display the DataFrame"
   ]
  },
  {
   "cell_type": "code",
   "execution_count": 6,
   "metadata": {},
   "outputs": [
    {
     "data": {
      "text/html": [
       "<div>\n",
       "<style scoped>\n",
       "    .dataframe tbody tr th:only-of-type {\n",
       "        vertical-align: middle;\n",
       "    }\n",
       "\n",
       "    .dataframe tbody tr th {\n",
       "        vertical-align: top;\n",
       "    }\n",
       "\n",
       "    .dataframe thead th {\n",
       "        text-align: right;\n",
       "    }\n",
       "</style>\n",
       "<table border=\"1\" class=\"dataframe\">\n",
       "  <thead>\n",
       "    <tr style=\"text-align: right;\">\n",
       "      <th></th>\n",
       "      <th>City</th>\n",
       "      <th>Lat</th>\n",
       "      <th>Lng</th>\n",
       "      <th>Max Temp</th>\n",
       "      <th>Humidity</th>\n",
       "      <th>Cloudiness</th>\n",
       "      <th>Wind Speed</th>\n",
       "      <th>Country</th>\n",
       "      <th>Date</th>\n",
       "    </tr>\n",
       "  </thead>\n",
       "  <tbody>\n",
       "    <tr>\n",
       "      <th>0</th>\n",
       "      <td>Bluff</td>\n",
       "      <td>-46.6000</td>\n",
       "      <td>168.3333</td>\n",
       "      <td>49.80</td>\n",
       "      <td>84</td>\n",
       "      <td>71</td>\n",
       "      <td>9.57</td>\n",
       "      <td>NZ</td>\n",
       "      <td>1633810712</td>\n",
       "    </tr>\n",
       "    <tr>\n",
       "      <th>1</th>\n",
       "      <td>Sheridan</td>\n",
       "      <td>44.8333</td>\n",
       "      <td>-106.9173</td>\n",
       "      <td>51.98</td>\n",
       "      <td>89</td>\n",
       "      <td>90</td>\n",
       "      <td>5.99</td>\n",
       "      <td>US</td>\n",
       "      <td>1633810712</td>\n",
       "    </tr>\n",
       "    <tr>\n",
       "      <th>2</th>\n",
       "      <td>Sioux Lookout</td>\n",
       "      <td>50.1001</td>\n",
       "      <td>-91.9170</td>\n",
       "      <td>64.78</td>\n",
       "      <td>82</td>\n",
       "      <td>75</td>\n",
       "      <td>5.75</td>\n",
       "      <td>CA</td>\n",
       "      <td>1633810712</td>\n",
       "    </tr>\n",
       "    <tr>\n",
       "      <th>3</th>\n",
       "      <td>Cape Town</td>\n",
       "      <td>-33.9258</td>\n",
       "      <td>18.4232</td>\n",
       "      <td>61.12</td>\n",
       "      <td>62</td>\n",
       "      <td>0</td>\n",
       "      <td>10.36</td>\n",
       "      <td>ZA</td>\n",
       "      <td>1633810624</td>\n",
       "    </tr>\n",
       "    <tr>\n",
       "      <th>4</th>\n",
       "      <td>Albany</td>\n",
       "      <td>42.6001</td>\n",
       "      <td>-73.9662</td>\n",
       "      <td>65.68</td>\n",
       "      <td>69</td>\n",
       "      <td>100</td>\n",
       "      <td>3.00</td>\n",
       "      <td>US</td>\n",
       "      <td>1633810457</td>\n",
       "    </tr>\n",
       "  </tbody>\n",
       "</table>\n",
       "</div>"
      ],
      "text/plain": [
       "            City      Lat       Lng  Max Temp  Humidity  Cloudiness  \\\n",
       "0          Bluff -46.6000  168.3333     49.80        84          71   \n",
       "1       Sheridan  44.8333 -106.9173     51.98        89          90   \n",
       "2  Sioux Lookout  50.1001  -91.9170     64.78        82          75   \n",
       "3      Cape Town -33.9258   18.4232     61.12        62           0   \n",
       "4         Albany  42.6001  -73.9662     65.68        69         100   \n",
       "\n",
       "   Wind Speed Country        Date  \n",
       "0        9.57      NZ  1633810712  \n",
       "1        5.99      US  1633810712  \n",
       "2        5.75      CA  1633810712  \n",
       "3       10.36      ZA  1633810624  \n",
       "4        3.00      US  1633810457  "
      ]
     },
     "execution_count": 6,
     "metadata": {},
     "output_type": "execute_result"
    }
   ],
   "source": [
    "city_data.head()"
   ]
  },
  {
   "cell_type": "code",
   "execution_count": 7,
   "metadata": {},
   "outputs": [],
   "source": [
    "city_data.to_csv(output_data_file, encoding= \"utf-8\", index = False, header= True)"
   ]
  },
  {
   "cell_type": "code",
   "execution_count": 8,
   "metadata": {},
   "outputs": [
    {
     "data": {
      "text/html": [
       "<div>\n",
       "<style scoped>\n",
       "    .dataframe tbody tr th:only-of-type {\n",
       "        vertical-align: middle;\n",
       "    }\n",
       "\n",
       "    .dataframe tbody tr th {\n",
       "        vertical-align: top;\n",
       "    }\n",
       "\n",
       "    .dataframe thead th {\n",
       "        text-align: right;\n",
       "    }\n",
       "</style>\n",
       "<table border=\"1\" class=\"dataframe\">\n",
       "  <thead>\n",
       "    <tr style=\"text-align: right;\">\n",
       "      <th></th>\n",
       "      <th>Lat</th>\n",
       "      <th>Lng</th>\n",
       "      <th>Max Temp</th>\n",
       "      <th>Humidity</th>\n",
       "      <th>Cloudiness</th>\n",
       "      <th>Wind Speed</th>\n",
       "      <th>Date</th>\n",
       "    </tr>\n",
       "  </thead>\n",
       "  <tbody>\n",
       "    <tr>\n",
       "      <th>count</th>\n",
       "      <td>42.000000</td>\n",
       "      <td>42.000000</td>\n",
       "      <td>42.000000</td>\n",
       "      <td>42.000000</td>\n",
       "      <td>42.000000</td>\n",
       "      <td>42.000000</td>\n",
       "      <td>4.200000e+01</td>\n",
       "    </tr>\n",
       "    <tr>\n",
       "      <th>mean</th>\n",
       "      <td>6.212360</td>\n",
       "      <td>6.348469</td>\n",
       "      <td>60.090000</td>\n",
       "      <td>74.428571</td>\n",
       "      <td>56.214286</td>\n",
       "      <td>8.509524</td>\n",
       "      <td>1.633811e+09</td>\n",
       "    </tr>\n",
       "    <tr>\n",
       "      <th>std</th>\n",
       "      <td>40.805914</td>\n",
       "      <td>108.720809</td>\n",
       "      <td>19.321613</td>\n",
       "      <td>13.510868</td>\n",
       "      <td>37.180860</td>\n",
       "      <td>5.684067</td>\n",
       "      <td>1.322331e+02</td>\n",
       "    </tr>\n",
       "    <tr>\n",
       "      <th>min</th>\n",
       "      <td>-54.800000</td>\n",
       "      <td>-175.200000</td>\n",
       "      <td>15.660000</td>\n",
       "      <td>37.000000</td>\n",
       "      <td>0.000000</td>\n",
       "      <td>0.960000</td>\n",
       "      <td>1.633810e+09</td>\n",
       "    </tr>\n",
       "    <tr>\n",
       "      <th>25%</th>\n",
       "      <td>-28.237050</td>\n",
       "      <td>-75.366300</td>\n",
       "      <td>50.215000</td>\n",
       "      <td>65.250000</td>\n",
       "      <td>20.750000</td>\n",
       "      <td>4.057500</td>\n",
       "      <td>1.633811e+09</td>\n",
       "    </tr>\n",
       "    <tr>\n",
       "      <th>50%</th>\n",
       "      <td>1.126200</td>\n",
       "      <td>-45.152200</td>\n",
       "      <td>64.340000</td>\n",
       "      <td>74.500000</td>\n",
       "      <td>57.000000</td>\n",
       "      <td>6.910000</td>\n",
       "      <td>1.633811e+09</td>\n",
       "    </tr>\n",
       "    <tr>\n",
       "      <th>75%</th>\n",
       "      <td>42.512725</td>\n",
       "      <td>113.297300</td>\n",
       "      <td>75.277500</td>\n",
       "      <td>83.750000</td>\n",
       "      <td>97.250000</td>\n",
       "      <td>13.622500</td>\n",
       "      <td>1.633811e+09</td>\n",
       "    </tr>\n",
       "    <tr>\n",
       "      <th>max</th>\n",
       "      <td>77.484000</td>\n",
       "      <td>178.416700</td>\n",
       "      <td>89.170000</td>\n",
       "      <td>99.000000</td>\n",
       "      <td>100.000000</td>\n",
       "      <td>20.000000</td>\n",
       "      <td>1.633811e+09</td>\n",
       "    </tr>\n",
       "  </tbody>\n",
       "</table>\n",
       "</div>"
      ],
      "text/plain": [
       "             Lat         Lng   Max Temp   Humidity  Cloudiness  Wind Speed  \\\n",
       "count  42.000000   42.000000  42.000000  42.000000   42.000000   42.000000   \n",
       "mean    6.212360    6.348469  60.090000  74.428571   56.214286    8.509524   \n",
       "std    40.805914  108.720809  19.321613  13.510868   37.180860    5.684067   \n",
       "min   -54.800000 -175.200000  15.660000  37.000000    0.000000    0.960000   \n",
       "25%   -28.237050  -75.366300  50.215000  65.250000   20.750000    4.057500   \n",
       "50%     1.126200  -45.152200  64.340000  74.500000   57.000000    6.910000   \n",
       "75%    42.512725  113.297300  75.277500  83.750000   97.250000   13.622500   \n",
       "max    77.484000  178.416700  89.170000  99.000000  100.000000   20.000000   \n",
       "\n",
       "               Date  \n",
       "count  4.200000e+01  \n",
       "mean   1.633811e+09  \n",
       "std    1.322331e+02  \n",
       "min    1.633810e+09  \n",
       "25%    1.633811e+09  \n",
       "50%    1.633811e+09  \n",
       "75%    1.633811e+09  \n",
       "max    1.633811e+09  "
      ]
     },
     "execution_count": 8,
     "metadata": {},
     "output_type": "execute_result"
    }
   ],
   "source": [
    "city_data.describe()"
   ]
  },
  {
   "cell_type": "code",
   "execution_count": 9,
   "metadata": {},
   "outputs": [
    {
     "data": {
      "text/plain": [
       "Int64Index([], dtype='int64')"
      ]
     },
     "execution_count": 9,
     "metadata": {},
     "output_type": "execute_result"
    }
   ],
   "source": [
    "weatherwithhumidityover100 = city_data.loc[city_data[\"Humidity\"] > 100]\n",
    "weatherwithhumidityover100.index"
   ]
  },
  {
   "cell_type": "code",
   "execution_count": 10,
   "metadata": {},
   "outputs": [
    {
     "data": {
      "text/html": [
       "<div>\n",
       "<style scoped>\n",
       "    .dataframe tbody tr th:only-of-type {\n",
       "        vertical-align: middle;\n",
       "    }\n",
       "\n",
       "    .dataframe tbody tr th {\n",
       "        vertical-align: top;\n",
       "    }\n",
       "\n",
       "    .dataframe thead th {\n",
       "        text-align: right;\n",
       "    }\n",
       "</style>\n",
       "<table border=\"1\" class=\"dataframe\">\n",
       "  <thead>\n",
       "    <tr style=\"text-align: right;\">\n",
       "      <th></th>\n",
       "      <th>City</th>\n",
       "      <th>Lat</th>\n",
       "      <th>Lng</th>\n",
       "      <th>Max Temp</th>\n",
       "      <th>Humidity</th>\n",
       "      <th>Cloudiness</th>\n",
       "      <th>Wind Speed</th>\n",
       "      <th>Country</th>\n",
       "      <th>Date</th>\n",
       "    </tr>\n",
       "  </thead>\n",
       "  <tbody>\n",
       "    <tr>\n",
       "      <th>0</th>\n",
       "      <td>Bluff</td>\n",
       "      <td>-46.6000</td>\n",
       "      <td>168.3333</td>\n",
       "      <td>49.80</td>\n",
       "      <td>84</td>\n",
       "      <td>71</td>\n",
       "      <td>9.57</td>\n",
       "      <td>NZ</td>\n",
       "      <td>1633810712</td>\n",
       "    </tr>\n",
       "    <tr>\n",
       "      <th>1</th>\n",
       "      <td>Sheridan</td>\n",
       "      <td>44.8333</td>\n",
       "      <td>-106.9173</td>\n",
       "      <td>51.98</td>\n",
       "      <td>89</td>\n",
       "      <td>90</td>\n",
       "      <td>5.99</td>\n",
       "      <td>US</td>\n",
       "      <td>1633810712</td>\n",
       "    </tr>\n",
       "    <tr>\n",
       "      <th>2</th>\n",
       "      <td>Sioux Lookout</td>\n",
       "      <td>50.1001</td>\n",
       "      <td>-91.9170</td>\n",
       "      <td>64.78</td>\n",
       "      <td>82</td>\n",
       "      <td>75</td>\n",
       "      <td>5.75</td>\n",
       "      <td>CA</td>\n",
       "      <td>1633810712</td>\n",
       "    </tr>\n",
       "    <tr>\n",
       "      <th>3</th>\n",
       "      <td>Cape Town</td>\n",
       "      <td>-33.9258</td>\n",
       "      <td>18.4232</td>\n",
       "      <td>61.12</td>\n",
       "      <td>62</td>\n",
       "      <td>0</td>\n",
       "      <td>10.36</td>\n",
       "      <td>ZA</td>\n",
       "      <td>1633810624</td>\n",
       "    </tr>\n",
       "    <tr>\n",
       "      <th>4</th>\n",
       "      <td>Albany</td>\n",
       "      <td>42.6001</td>\n",
       "      <td>-73.9662</td>\n",
       "      <td>65.68</td>\n",
       "      <td>69</td>\n",
       "      <td>100</td>\n",
       "      <td>3.00</td>\n",
       "      <td>US</td>\n",
       "      <td>1633810457</td>\n",
       "    </tr>\n",
       "  </tbody>\n",
       "</table>\n",
       "</div>"
      ],
      "text/plain": [
       "            City      Lat       Lng  Max Temp  Humidity  Cloudiness  \\\n",
       "0          Bluff -46.6000  168.3333     49.80        84          71   \n",
       "1       Sheridan  44.8333 -106.9173     51.98        89          90   \n",
       "2  Sioux Lookout  50.1001  -91.9170     64.78        82          75   \n",
       "3      Cape Town -33.9258   18.4232     61.12        62           0   \n",
       "4         Albany  42.6001  -73.9662     65.68        69         100   \n",
       "\n",
       "   Wind Speed Country        Date  \n",
       "0        9.57      NZ  1633810712  \n",
       "1        5.99      US  1633810712  \n",
       "2        5.75      CA  1633810712  \n",
       "3       10.36      ZA  1633810624  \n",
       "4        3.00      US  1633810457  "
      ]
     },
     "execution_count": 10,
     "metadata": {},
     "output_type": "execute_result"
    }
   ],
   "source": [
    "citydataafterdropping = city_data.drop(weatherwithhumidityover100.index,  inplace = False)\n",
    "citydataafterdropping.head()"
   ]
  },
  {
   "cell_type": "code",
   "execution_count": 11,
   "metadata": {},
   "outputs": [],
   "source": [
    "city_data_duplicate = pd.DataFrame({'City':City_name,\n",
    "                                    'Lat':Lat,\n",
    "                                    'Lng':Lng,\n",
    "                                    'Max Temp':Max_Temp,\n",
    "                                    'Humidity':Humidity,\n",
    "                                    'Cloudiness':Cloudiness,\n",
    "                                    'Wind Speed':Wind_Speed,\n",
    "                                    'Country':Country,\n",
    "                                    'Date':Date})"
   ]
  },
  {
   "cell_type": "code",
   "execution_count": 12,
   "metadata": {},
   "outputs": [
    {
     "data": {
      "text/html": [
       "<div>\n",
       "<style scoped>\n",
       "    .dataframe tbody tr th:only-of-type {\n",
       "        vertical-align: middle;\n",
       "    }\n",
       "\n",
       "    .dataframe tbody tr th {\n",
       "        vertical-align: top;\n",
       "    }\n",
       "\n",
       "    .dataframe thead th {\n",
       "        text-align: right;\n",
       "    }\n",
       "</style>\n",
       "<table border=\"1\" class=\"dataframe\">\n",
       "  <thead>\n",
       "    <tr style=\"text-align: right;\">\n",
       "      <th></th>\n",
       "      <th>City</th>\n",
       "      <th>Lat</th>\n",
       "      <th>Lng</th>\n",
       "      <th>Max Temp</th>\n",
       "      <th>Humidity</th>\n",
       "      <th>Cloudiness</th>\n",
       "      <th>Wind Speed</th>\n",
       "      <th>Country</th>\n",
       "      <th>Date</th>\n",
       "    </tr>\n",
       "  </thead>\n",
       "  <tbody>\n",
       "    <tr>\n",
       "      <th>0</th>\n",
       "      <td>Bluff</td>\n",
       "      <td>-46.6000</td>\n",
       "      <td>168.3333</td>\n",
       "      <td>49.80</td>\n",
       "      <td>84</td>\n",
       "      <td>71</td>\n",
       "      <td>9.57</td>\n",
       "      <td>NZ</td>\n",
       "      <td>1633810712</td>\n",
       "    </tr>\n",
       "    <tr>\n",
       "      <th>1</th>\n",
       "      <td>Sheridan</td>\n",
       "      <td>44.8333</td>\n",
       "      <td>-106.9173</td>\n",
       "      <td>51.98</td>\n",
       "      <td>89</td>\n",
       "      <td>90</td>\n",
       "      <td>5.99</td>\n",
       "      <td>US</td>\n",
       "      <td>1633810712</td>\n",
       "    </tr>\n",
       "    <tr>\n",
       "      <th>2</th>\n",
       "      <td>Sioux Lookout</td>\n",
       "      <td>50.1001</td>\n",
       "      <td>-91.9170</td>\n",
       "      <td>64.78</td>\n",
       "      <td>82</td>\n",
       "      <td>75</td>\n",
       "      <td>5.75</td>\n",
       "      <td>CA</td>\n",
       "      <td>1633810712</td>\n",
       "    </tr>\n",
       "    <tr>\n",
       "      <th>3</th>\n",
       "      <td>Cape Town</td>\n",
       "      <td>-33.9258</td>\n",
       "      <td>18.4232</td>\n",
       "      <td>61.12</td>\n",
       "      <td>62</td>\n",
       "      <td>0</td>\n",
       "      <td>10.36</td>\n",
       "      <td>ZA</td>\n",
       "      <td>1633810624</td>\n",
       "    </tr>\n",
       "    <tr>\n",
       "      <th>4</th>\n",
       "      <td>Albany</td>\n",
       "      <td>42.6001</td>\n",
       "      <td>-73.9662</td>\n",
       "      <td>65.68</td>\n",
       "      <td>69</td>\n",
       "      <td>100</td>\n",
       "      <td>3.00</td>\n",
       "      <td>US</td>\n",
       "      <td>1633810457</td>\n",
       "    </tr>\n",
       "  </tbody>\n",
       "</table>\n",
       "</div>"
      ],
      "text/plain": [
       "            City      Lat       Lng  Max Temp  Humidity  Cloudiness  \\\n",
       "0          Bluff -46.6000  168.3333     49.80        84          71   \n",
       "1       Sheridan  44.8333 -106.9173     51.98        89          90   \n",
       "2  Sioux Lookout  50.1001  -91.9170     64.78        82          75   \n",
       "3      Cape Town -33.9258   18.4232     61.12        62           0   \n",
       "4         Albany  42.6001  -73.9662     65.68        69         100   \n",
       "\n",
       "   Wind Speed Country        Date  \n",
       "0        9.57      NZ  1633810712  \n",
       "1        5.99      US  1633810712  \n",
       "2        5.75      CA  1633810712  \n",
       "3       10.36      ZA  1633810624  \n",
       "4        3.00      US  1633810457  "
      ]
     },
     "execution_count": 12,
     "metadata": {},
     "output_type": "execute_result"
    }
   ],
   "source": [
    "city_data_duplicate.head()"
   ]
  },
  {
   "cell_type": "code",
   "execution_count": 13,
   "metadata": {},
   "outputs": [
    {
     "name": "stdout",
     "output_type": "stream",
     "text": [
      "The lower quartile of Humidity is: 65.25\n",
      "The upper quartile of Humidity is: 83.75\n",
      "The interquartile range of Humidity is: 18.5\n",
      "The the median of Humidity is: 74.5 \n",
      "Values below 37.5 could be outliers.\n",
      "Values above 111.5 could be outliers.\n"
     ]
    }
   ],
   "source": [
    "humidity = city_data_duplicate[\"Humidity\"]\n",
    "quartiles = humidity.quantile([.25,.5,.75])\n",
    "lowerq = quartiles[0.25]\n",
    "upperq = quartiles[0.75]\n",
    "iqr = upperq-lowerq\n",
    "lower_bound = lowerq - (1.5*iqr)\n",
    "upper_bound = upperq + (1.5*iqr)\n",
    "print(f\"The lower quartile of Humidity is: {lowerq}\")\n",
    "print(f\"The upper quartile of Humidity is: {upperq}\")\n",
    "print(f\"The interquartile range of Humidity is: {iqr}\")\n",
    "print(f\"The the median of Humidity is: {quartiles[0.5]} \")\n",
    "print(f\"Values below {lower_bound} could be outliers.\")\n",
    "print(f\"Values above {upper_bound} could be outliers.\")"
   ]
  },
  {
   "cell_type": "code",
   "execution_count": 14,
   "metadata": {},
   "outputs": [
    {
     "data": {
      "text/html": [
       "<div>\n",
       "<style scoped>\n",
       "    .dataframe tbody tr th:only-of-type {\n",
       "        vertical-align: middle;\n",
       "    }\n",
       "\n",
       "    .dataframe tbody tr th {\n",
       "        vertical-align: top;\n",
       "    }\n",
       "\n",
       "    .dataframe thead th {\n",
       "        text-align: right;\n",
       "    }\n",
       "</style>\n",
       "<table border=\"1\" class=\"dataframe\">\n",
       "  <thead>\n",
       "    <tr style=\"text-align: right;\">\n",
       "      <th></th>\n",
       "      <th>City</th>\n",
       "      <th>Lat</th>\n",
       "      <th>Lng</th>\n",
       "      <th>Max Temp</th>\n",
       "      <th>Humidity</th>\n",
       "      <th>Cloudiness</th>\n",
       "      <th>Wind Speed</th>\n",
       "      <th>Country</th>\n",
       "      <th>Date</th>\n",
       "    </tr>\n",
       "  </thead>\n",
       "  <tbody>\n",
       "    <tr>\n",
       "      <th>8</th>\n",
       "      <td>Comodoro Rivadavia</td>\n",
       "      <td>-45.8667</td>\n",
       "      <td>-67.5</td>\n",
       "      <td>69.66</td>\n",
       "      <td>37</td>\n",
       "      <td>0</td>\n",
       "      <td>13.8</td>\n",
       "      <td>AR</td>\n",
       "      <td>1633810713</td>\n",
       "    </tr>\n",
       "  </tbody>\n",
       "</table>\n",
       "</div>"
      ],
      "text/plain": [
       "                 City      Lat   Lng  Max Temp  Humidity  Cloudiness  \\\n",
       "8  Comodoro Rivadavia -45.8667 -67.5     69.66        37           0   \n",
       "\n",
       "   Wind Speed Country        Date  \n",
       "8        13.8      AR  1633810713  "
      ]
     },
     "execution_count": 14,
     "metadata": {},
     "output_type": "execute_result"
    }
   ],
   "source": [
    "outlier_humidity = city_data_duplicate.loc[(city_data_duplicate['Humidity'] < lower_bound) | (city_data_duplicate['Humidity'] > upper_bound)]\n",
    "outlier_humidity"
   ]
  },
  {
   "cell_type": "code",
   "execution_count": 15,
   "metadata": {},
   "outputs": [
    {
     "data": {
      "text/plain": [
       "Int64Index([8], dtype='int64')"
      ]
     },
     "execution_count": 15,
     "metadata": {},
     "output_type": "execute_result"
    }
   ],
   "source": [
    "outlier_humidity.index"
   ]
  },
  {
   "cell_type": "code",
   "execution_count": 16,
   "metadata": {},
   "outputs": [
    {
     "data": {
      "text/html": [
       "<div>\n",
       "<style scoped>\n",
       "    .dataframe tbody tr th:only-of-type {\n",
       "        vertical-align: middle;\n",
       "    }\n",
       "\n",
       "    .dataframe tbody tr th {\n",
       "        vertical-align: top;\n",
       "    }\n",
       "\n",
       "    .dataframe thead th {\n",
       "        text-align: right;\n",
       "    }\n",
       "</style>\n",
       "<table border=\"1\" class=\"dataframe\">\n",
       "  <thead>\n",
       "    <tr style=\"text-align: right;\">\n",
       "      <th></th>\n",
       "      <th>City</th>\n",
       "      <th>Lat</th>\n",
       "      <th>Lng</th>\n",
       "      <th>Max Temp</th>\n",
       "      <th>Humidity</th>\n",
       "      <th>Cloudiness</th>\n",
       "      <th>Wind Speed</th>\n",
       "      <th>Country</th>\n",
       "      <th>Date</th>\n",
       "    </tr>\n",
       "  </thead>\n",
       "  <tbody>\n",
       "    <tr>\n",
       "      <th>0</th>\n",
       "      <td>Bluff</td>\n",
       "      <td>-46.6000</td>\n",
       "      <td>168.3333</td>\n",
       "      <td>49.80</td>\n",
       "      <td>84</td>\n",
       "      <td>71</td>\n",
       "      <td>9.57</td>\n",
       "      <td>NZ</td>\n",
       "      <td>1633810712</td>\n",
       "    </tr>\n",
       "    <tr>\n",
       "      <th>1</th>\n",
       "      <td>Sheridan</td>\n",
       "      <td>44.8333</td>\n",
       "      <td>-106.9173</td>\n",
       "      <td>51.98</td>\n",
       "      <td>89</td>\n",
       "      <td>90</td>\n",
       "      <td>5.99</td>\n",
       "      <td>US</td>\n",
       "      <td>1633810712</td>\n",
       "    </tr>\n",
       "    <tr>\n",
       "      <th>2</th>\n",
       "      <td>Sioux Lookout</td>\n",
       "      <td>50.1001</td>\n",
       "      <td>-91.9170</td>\n",
       "      <td>64.78</td>\n",
       "      <td>82</td>\n",
       "      <td>75</td>\n",
       "      <td>5.75</td>\n",
       "      <td>CA</td>\n",
       "      <td>1633810712</td>\n",
       "    </tr>\n",
       "    <tr>\n",
       "      <th>3</th>\n",
       "      <td>Cape Town</td>\n",
       "      <td>-33.9258</td>\n",
       "      <td>18.4232</td>\n",
       "      <td>61.12</td>\n",
       "      <td>62</td>\n",
       "      <td>0</td>\n",
       "      <td>10.36</td>\n",
       "      <td>ZA</td>\n",
       "      <td>1633810624</td>\n",
       "    </tr>\n",
       "    <tr>\n",
       "      <th>4</th>\n",
       "      <td>Albany</td>\n",
       "      <td>42.6001</td>\n",
       "      <td>-73.9662</td>\n",
       "      <td>65.68</td>\n",
       "      <td>69</td>\n",
       "      <td>100</td>\n",
       "      <td>3.00</td>\n",
       "      <td>US</td>\n",
       "      <td>1633810457</td>\n",
       "    </tr>\n",
       "  </tbody>\n",
       "</table>\n",
       "</div>"
      ],
      "text/plain": [
       "            City      Lat       Lng  Max Temp  Humidity  Cloudiness  \\\n",
       "0          Bluff -46.6000  168.3333     49.80        84          71   \n",
       "1       Sheridan  44.8333 -106.9173     51.98        89          90   \n",
       "2  Sioux Lookout  50.1001  -91.9170     64.78        82          75   \n",
       "3      Cape Town -33.9258   18.4232     61.12        62           0   \n",
       "4         Albany  42.6001  -73.9662     65.68        69         100   \n",
       "\n",
       "   Wind Speed Country        Date  \n",
       "0        9.57      NZ  1633810712  \n",
       "1        5.99      US  1633810712  \n",
       "2        5.75      CA  1633810712  \n",
       "3       10.36      ZA  1633810624  \n",
       "4        3.00      US  1633810457  "
      ]
     },
     "execution_count": 16,
     "metadata": {},
     "output_type": "execute_result"
    }
   ],
   "source": [
    "clean_city_data = city_data_duplicate.drop(outlier_humidity.index,  inplace = False)\n",
    "clean_city_data.head()"
   ]
  },
  {
   "cell_type": "code",
   "execution_count": null,
   "metadata": {},
   "outputs": [],
   "source": []
  },
  {
   "cell_type": "markdown",
   "metadata": {},
   "source": [
    "## Inspect the data and remove the cities where the humidity > 100%.\n",
    "----\n",
    "Skip this step if there are no cities that have humidity > 100%. "
   ]
  },
  {
   "cell_type": "code",
   "execution_count": null,
   "metadata": {},
   "outputs": [],
   "source": []
  },
  {
   "cell_type": "code",
   "execution_count": 17,
   "metadata": {},
   "outputs": [],
   "source": [
    "#  Get the indices of cities that have humidity over 100%.\n"
   ]
  },
  {
   "cell_type": "code",
   "execution_count": 18,
   "metadata": {},
   "outputs": [],
   "source": [
    "# Make a new DataFrame equal to the city data to drop all humidity outliers by index.\n",
    "# Passing \"inplace=False\" will make a copy of the city_data DataFrame, which we call \"clean_city_data\".\n"
   ]
  },
  {
   "cell_type": "code",
   "execution_count": null,
   "metadata": {},
   "outputs": [],
   "source": [
    "\n"
   ]
  },
  {
   "cell_type": "markdown",
   "metadata": {},
   "source": [
    "## Plotting the Data\n",
    "* Use proper labeling of the plots using plot titles (including date of analysis) and axes labels.\n",
    "* Save the plotted figures as .pngs."
   ]
  },
  {
   "cell_type": "markdown",
   "metadata": {},
   "source": [
    "## Latitude vs. Temperature Plot"
   ]
  },
  {
   "cell_type": "code",
   "execution_count": 19,
   "metadata": {
    "scrolled": true
   },
   "outputs": [
    {
     "data": {
      "image/png": "[encoded data removed]",
      "text/plain": [
       "<Figure size 504x504 with 1 Axes>"
      ]
     },
     "metadata": {
      "needs_background": "light"
     },
     "output_type": "display_data"
    }
   ],
   "source": [
    "clean_city_data.plot(kind=\"scatter\", x=\"Lat\", y=\"Max Temp\", \n",
    "                     grid=True, figsize=(7,7),marker=\"o\", \n",
    "                     facecolors=\"red\", edgecolors=\"black\",\n",
    "                     title=\"City Latitude vs.Max Temperature(07/22/21)\",\n",
    "                     alpha=0.95,s = 40)\n",
    "plt.savefig(\"../output_data/Fig 1.png\")\n",
    "plt.show()"
   ]
  },
  {
   "cell_type": "markdown",
   "metadata": {},
   "source": [
    "## Latitude vs. Humidity Plot"
   ]
  },
  {
   "cell_type": "code",
   "execution_count": 20,
   "metadata": {},
   "outputs": [
    {
     "data": {
      "image/png": "[encoded data removed]",
      "text/plain": [
       "<Figure size 504x504 with 1 Axes>"
      ]
     },
     "metadata": {
      "needs_background": "light"
     },
     "output_type": "display_data"
    }
   ],
   "source": [
    "clean_city_data.plot(kind=\"scatter\", x=\"Lat\", y=\"Humidity\", \n",
    "                     grid=True, figsize=(7,7),marker=\"o\", \n",
    "                     facecolors=\"red\", edgecolors=\"black\",\n",
    "                     title=\"City Latitude vs.Humidity(07/22/21)\",\n",
    "                     alpha=0.95,s = 40)\n",
    "plt.savefig(\"../output_data/Fig 2.png\")\n",
    "plt.show()"
   ]
  },
  {
   "cell_type": "markdown",
   "metadata": {},
   "source": [
    "## Latitude vs. Cloudiness Plot"
   ]
  },
  {
   "cell_type": "code",
   "execution_count": 21,
   "metadata": {},
   "outputs": [
    {
     "data": {
      "image/png": "[encoded data removed]",
      "text/plain": [
       "<Figure size 504x504 with 1 Axes>"
      ]
     },
     "metadata": {
      "needs_background": "light"
     },
     "output_type": "display_data"
    }
   ],
   "source": [
    "clean_city_data.plot(kind=\"scatter\", x=\"Lat\", y=\"Cloudiness\", \n",
    "                     grid=True, figsize=(7,7),marker=\"o\", \n",
    "                     facecolors=\"red\", edgecolors=\"black\",\n",
    "                     title=\"City Latitude vs.Cloudiness(07/22/21)\",\n",
    "                     alpha=0.95,s = 40)\n",
    "plt.savefig(\"../output_data/Fig3.png\")\n",
    "plt.show()"
   ]
  },
  {
   "cell_type": "markdown",
   "metadata": {},
   "source": [
    "## Latitude vs. Wind Speed Plot"
   ]
  },
  {
   "cell_type": "code",
   "execution_count": 22,
   "metadata": {},
   "outputs": [
    {
     "data": {
      "image/png": "[encoded data removed]",
      "text/plain": [
       "<Figure size 504x504 with 1 Axes>"
      ]
     },
     "metadata": {
      "needs_background": "light"
     },
     "output_type": "display_data"
    }
   ],
   "source": [
    "clean_city_data.plot(kind=\"scatter\", x=\"Lat\", y=\"Wind Speed\",\n",
    "                     grid=True, figsize=(7,7),marker=\"o\", \n",
    "                     facecolors=\"red\", edgecolors=\"black\",\n",
    "                     title=\"City Latitude vs.WindSpeed(07/22/21)\",\n",
    "                     alpha=0.95,s = 40)\n",
    "plt.savefig(\"../output_data/Fig4.png\")\n",
    "plt.show()"
   ]
  },
  {
   "cell_type": "markdown",
   "metadata": {},
   "source": [
    "## Linear Regression"
   ]
  },
  {
   "cell_type": "code",
   "execution_count": 23,
   "metadata": {},
   "outputs": [
    {
     "data": {
      "text/html": [
       "<div>\n",
       "<style scoped>\n",
       "    .dataframe tbody tr th:only-of-type {\n",
       "        vertical-align: middle;\n",
       "    }\n",
       "\n",
       "    .dataframe tbody tr th {\n",
       "        vertical-align: top;\n",
       "    }\n",
       "\n",
       "    .dataframe thead th {\n",
       "        text-align: right;\n",
       "    }\n",
       "</style>\n",
       "<table border=\"1\" class=\"dataframe\">\n",
       "  <thead>\n",
       "    <tr style=\"text-align: right;\">\n",
       "      <th></th>\n",
       "      <th>City</th>\n",
       "      <th>Lat</th>\n",
       "      <th>Lng</th>\n",
       "      <th>Max Temp</th>\n",
       "      <th>Humidity</th>\n",
       "      <th>Cloudiness</th>\n",
       "      <th>Wind Speed</th>\n",
       "      <th>Country</th>\n",
       "      <th>Date</th>\n",
       "    </tr>\n",
       "  </thead>\n",
       "  <tbody>\n",
       "    <tr>\n",
       "      <th>1</th>\n",
       "      <td>Sheridan</td>\n",
       "      <td>44.8333</td>\n",
       "      <td>-106.9173</td>\n",
       "      <td>51.98</td>\n",
       "      <td>89</td>\n",
       "      <td>90</td>\n",
       "      <td>5.99</td>\n",
       "      <td>US</td>\n",
       "      <td>1633810712</td>\n",
       "    </tr>\n",
       "    <tr>\n",
       "      <th>2</th>\n",
       "      <td>Sioux Lookout</td>\n",
       "      <td>50.1001</td>\n",
       "      <td>-91.9170</td>\n",
       "      <td>64.78</td>\n",
       "      <td>82</td>\n",
       "      <td>75</td>\n",
       "      <td>5.75</td>\n",
       "      <td>CA</td>\n",
       "      <td>1633810712</td>\n",
       "    </tr>\n",
       "    <tr>\n",
       "      <th>4</th>\n",
       "      <td>Albany</td>\n",
       "      <td>42.6001</td>\n",
       "      <td>-73.9662</td>\n",
       "      <td>65.68</td>\n",
       "      <td>69</td>\n",
       "      <td>100</td>\n",
       "      <td>3.00</td>\n",
       "      <td>US</td>\n",
       "      <td>1633810457</td>\n",
       "    </tr>\n",
       "    <tr>\n",
       "      <th>7</th>\n",
       "      <td>Puerto Cabezas</td>\n",
       "      <td>14.0351</td>\n",
       "      <td>-83.3888</td>\n",
       "      <td>87.76</td>\n",
       "      <td>70</td>\n",
       "      <td>75</td>\n",
       "      <td>6.91</td>\n",
       "      <td>NI</td>\n",
       "      <td>1633810713</td>\n",
       "    </tr>\n",
       "    <tr>\n",
       "      <th>9</th>\n",
       "      <td>Petropavlovka</td>\n",
       "      <td>50.6114</td>\n",
       "      <td>105.3196</td>\n",
       "      <td>32.22</td>\n",
       "      <td>63</td>\n",
       "      <td>10</td>\n",
       "      <td>4.00</td>\n",
       "      <td>RU</td>\n",
       "      <td>1633810713</td>\n",
       "    </tr>\n",
       "  </tbody>\n",
       "</table>\n",
       "</div>"
      ],
      "text/plain": [
       "             City      Lat       Lng  Max Temp  Humidity  Cloudiness  \\\n",
       "1        Sheridan  44.8333 -106.9173     51.98        89          90   \n",
       "2   Sioux Lookout  50.1001  -91.9170     64.78        82          75   \n",
       "4          Albany  42.6001  -73.9662     65.68        69         100   \n",
       "7  Puerto Cabezas  14.0351  -83.3888     87.76        70          75   \n",
       "9   Petropavlovka  50.6114  105.3196     32.22        63          10   \n",
       "\n",
       "   Wind Speed Country        Date  \n",
       "1        5.99      US  1633810712  \n",
       "2        5.75      CA  1633810712  \n",
       "4        3.00      US  1633810457  \n",
       "7        6.91      NI  1633810713  \n",
       "9        4.00      RU  1633810713  "
      ]
     },
     "execution_count": 23,
     "metadata": {},
     "output_type": "execute_result"
    }
   ],
   "source": [
    "Nothern_Hemisphere_data = clean_city_data.loc[clean_city_data[\"Lat\"]>=0]\n",
    "Nothern_Hemisphere_data.head()"
   ]
  },
  {
   "cell_type": "code",
   "execution_count": 24,
   "metadata": {},
   "outputs": [
    {
     "data": {
      "text/html": [
       "<div>\n",
       "<style scoped>\n",
       "    .dataframe tbody tr th:only-of-type {\n",
       "        vertical-align: middle;\n",
       "    }\n",
       "\n",
       "    .dataframe tbody tr th {\n",
       "        vertical-align: top;\n",
       "    }\n",
       "\n",
       "    .dataframe thead th {\n",
       "        text-align: right;\n",
       "    }\n",
       "</style>\n",
       "<table border=\"1\" class=\"dataframe\">\n",
       "  <thead>\n",
       "    <tr style=\"text-align: right;\">\n",
       "      <th></th>\n",
       "      <th>City</th>\n",
       "      <th>Lat</th>\n",
       "      <th>Lng</th>\n",
       "      <th>Max Temp</th>\n",
       "      <th>Humidity</th>\n",
       "      <th>Cloudiness</th>\n",
       "      <th>Wind Speed</th>\n",
       "      <th>Country</th>\n",
       "      <th>Date</th>\n",
       "    </tr>\n",
       "  </thead>\n",
       "  <tbody>\n",
       "    <tr>\n",
       "      <th>0</th>\n",
       "      <td>Bluff</td>\n",
       "      <td>-46.6000</td>\n",
       "      <td>168.3333</td>\n",
       "      <td>49.80</td>\n",
       "      <td>84</td>\n",
       "      <td>71</td>\n",
       "      <td>9.57</td>\n",
       "      <td>NZ</td>\n",
       "      <td>1633810712</td>\n",
       "    </tr>\n",
       "    <tr>\n",
       "      <th>3</th>\n",
       "      <td>Cape Town</td>\n",
       "      <td>-33.9258</td>\n",
       "      <td>18.4232</td>\n",
       "      <td>61.12</td>\n",
       "      <td>62</td>\n",
       "      <td>0</td>\n",
       "      <td>10.36</td>\n",
       "      <td>ZA</td>\n",
       "      <td>1633810624</td>\n",
       "    </tr>\n",
       "    <tr>\n",
       "      <th>5</th>\n",
       "      <td>Ushuaia</td>\n",
       "      <td>-54.8000</td>\n",
       "      <td>-68.3000</td>\n",
       "      <td>51.46</td>\n",
       "      <td>66</td>\n",
       "      <td>40</td>\n",
       "      <td>6.91</td>\n",
       "      <td>AR</td>\n",
       "      <td>1633810637</td>\n",
       "    </tr>\n",
       "    <tr>\n",
       "      <th>6</th>\n",
       "      <td>New Norfolk</td>\n",
       "      <td>-42.7826</td>\n",
       "      <td>147.0587</td>\n",
       "      <td>45.90</td>\n",
       "      <td>64</td>\n",
       "      <td>66</td>\n",
       "      <td>1.99</td>\n",
       "      <td>AU</td>\n",
       "      <td>1633810437</td>\n",
       "    </tr>\n",
       "    <tr>\n",
       "      <th>10</th>\n",
       "      <td>Vila Velha</td>\n",
       "      <td>-20.3297</td>\n",
       "      <td>-40.2925</td>\n",
       "      <td>69.75</td>\n",
       "      <td>83</td>\n",
       "      <td>75</td>\n",
       "      <td>2.30</td>\n",
       "      <td>BR</td>\n",
       "      <td>1633810714</td>\n",
       "    </tr>\n",
       "  </tbody>\n",
       "</table>\n",
       "</div>"
      ],
      "text/plain": [
       "           City      Lat       Lng  Max Temp  Humidity  Cloudiness  \\\n",
       "0         Bluff -46.6000  168.3333     49.80        84          71   \n",
       "3     Cape Town -33.9258   18.4232     61.12        62           0   \n",
       "5       Ushuaia -54.8000  -68.3000     51.46        66          40   \n",
       "6   New Norfolk -42.7826  147.0587     45.90        64          66   \n",
       "10   Vila Velha -20.3297  -40.2925     69.75        83          75   \n",
       "\n",
       "    Wind Speed Country        Date  \n",
       "0         9.57      NZ  1633810712  \n",
       "3        10.36      ZA  1633810624  \n",
       "5         6.91      AR  1633810637  \n",
       "6         1.99      AU  1633810437  \n",
       "10        2.30      BR  1633810714  "
      ]
     },
     "execution_count": 24,
     "metadata": {},
     "output_type": "execute_result"
    }
   ],
   "source": [
    "Southern_Hemisphere_data = clean_city_data.loc[clean_city_data[\"Lat\"]<0]\n",
    "Southern_Hemisphere_data.head()"
   ]
  },
  {
   "cell_type": "markdown",
   "metadata": {},
   "source": [
    "####  Northern Hemisphere - Max Temp vs. Latitude Linear Regression"
   ]
  },
  {
   "cell_type": "code",
   "execution_count": 25,
   "metadata": {},
   "outputs": [
    {
     "name": "stdout",
     "output_type": "stream",
     "text": [
      "The r-value is: 0.8858874628830242\n"
     ]
    },
    {
     "data": {
      "image/png": "[encoded data removed]",
      "text/plain": [
       "<Figure size 432x288 with 1 Axes>"
      ]
     },
     "metadata": {
      "needs_background": "light"
     },
     "output_type": "display_data"
    },
    {
     "name": "stdout",
     "output_type": "stream",
     "text": [
      "\u001b[1m(Northern Hemisphere  - Max Temp vs. Latitude)R square value is:\u001b[1m 0.8858874628830242\n",
      "\u001b[1m(Northern Hemisphere  - Max Temp vs. Latitude)Linear Regression is:\u001b[1m y = -0.98x + 97.52\n"
     ]
    }
   ],
   "source": [
    "x_values = Nothern_Hemisphere_data['Lat']\n",
    "y_values = Nothern_Hemisphere_data['Max Temp']\n",
    "(slope, intercept, rvalue, pvalue, stderr) = linregress(x_values, y_values)\n",
    "regress_values = x_values * slope + intercept\n",
    "line_eq = \"y = \" + str(round(slope,2)) + \"x + \" + str(round(intercept,2))\n",
    "plt.scatter(x_values,y_values)\n",
    "plt.plot(x_values,regress_values,\"r-\")\n",
    "plt.title(f'{line_eq}',color = 'r', fontsize = 14)\n",
    "plt.xlabel('Latitude')\n",
    "plt.ylabel('Maximum Temperature')\n",
    "print(f\"The r-value is: {rvalue**2}\")\n",
    "plt.savefig(\"../output_data/Fig 5.png\")\n",
    "plt.show()\n",
    "print(f\"\\033[1m(Northern Hemisphere  - Max Temp vs. Latitude)R square value is:\\033[1m {rvalue**2}\" )\n",
    "print(f\"\\033[1m(Northern Hemisphere  - Max Temp vs. Latitude)Linear Regression is:\\033[1m {line_eq}\" )"
   ]
  },
  {
   "cell_type": "markdown",
   "metadata": {},
   "source": [
    "####  Southern Hemisphere - Max Temp vs. Latitude Linear Regression"
   ]
  },
  {
   "cell_type": "code",
   "execution_count": 26,
   "metadata": {},
   "outputs": [
    {
     "name": "stdout",
     "output_type": "stream",
     "text": [
      "The r-value is: 0.6383246528245933\n"
     ]
    },
    {
     "data": {
      "image/png": "[encoded data removed]",
      "text/plain": [
       "<Figure size 432x288 with 1 Axes>"
      ]
     },
     "metadata": {
      "needs_background": "light"
     },
     "output_type": "display_data"
    },
    {
     "name": "stdout",
     "output_type": "stream",
     "text": [
      "\u001b[1m(Southern Hemisphere- Max Temp vs. Latitude)R square value is:\u001b[1m 0.6383246528245933\n",
      "\u001b[1m(Southern Hemisphere- Max Temp vs. Latitude)Linear Regression is:\u001b[1m y = 0.68x + 82.44\n"
     ]
    }
   ],
   "source": [
    "x_values = Southern_Hemisphere_data['Lat']\n",
    "y_values = Southern_Hemisphere_data['Max Temp']\n",
    "(slope, intercept, rvalue, pvalue, stderr) = linregress(x_values, y_values)\n",
    "regress_values = x_values * slope + intercept\n",
    "line_eq = \"y = \" + str(round(slope,2)) + \"x + \" + str(round(intercept,2))\n",
    "plt.scatter(x_values,y_values)\n",
    "plt.plot(x_values,regress_values, \"r-\")\n",
    "plt.title(f'{line_eq}',color = 'r', fontsize = 14)\n",
    "plt.xlabel('Latitude')\n",
    "plt.ylabel('Maximum Temperature')\n",
    "print(f\"The r-value is: {rvalue**2}\")\n",
    "plt.savefig(\"../output_data/Fig 6.png\")\n",
    "plt.show()\n",
    "print(f\"\\033[1m(Southern Hemisphere- Max Temp vs. Latitude)R square value is:\\033[1m {rvalue**2}\" )\n",
    "print(f\"\\033[1m(Southern Hemisphere- Max Temp vs. Latitude)Linear Regression is:\\033[1m {line_eq}\" )"
   ]
  },
  {
   "cell_type": "markdown",
   "metadata": {},
   "source": [
    "####  Northern Hemisphere - Humidity (%) vs. Latitude Linear Regression"
   ]
  },
  {
   "cell_type": "code",
   "execution_count": 27,
   "metadata": {},
   "outputs": [
    {
     "name": "stdout",
     "output_type": "stream",
     "text": [
      "The r-value is: 0.013582703203835504\n"
     ]
    },
    {
     "data": {
      "image/png": "[encoded data removed]",
      "text/plain": [
       "<Figure size 432x288 with 1 Axes>"
      ]
     },
     "metadata": {
      "needs_background": "light"
     },
     "output_type": "display_data"
    },
    {
     "name": "stdout",
     "output_type": "stream",
     "text": [
      "\u001b[1m(Northern Hemisphere  - Humidity (%) vs. Latitude)R square value is:\u001b[1m 0.013582703203835504\n",
      "\u001b[1m(Northern Hemisphere  - Humidity (%) vs. Latitude)Linear Regression is:\u001b[1m y = 0.07x + 72.22\n"
     ]
    }
   ],
   "source": [
    "x_values = Nothern_Hemisphere_data['Lat']\n",
    "y_values = Nothern_Hemisphere_data['Humidity']\n",
    "(slope, intercept, rvalue, pvalue, stderr) = linregress(x_values, y_values)\n",
    "regress_values = x_values * slope + intercept\n",
    "line_eq = \"y = \" + str(round(slope,2)) + \"x + \" + str(round(intercept,2))\n",
    "plt.scatter(x_values,y_values)\n",
    "plt.plot(x_values,regress_values,\"r-\")\n",
    "plt.title(f'{line_eq}',color = 'r', fontsize = 14)\n",
    "plt.xlabel('Latitude')\n",
    "plt.ylabel('Humidity(%)')\n",
    "print(f\"The r-value is: {rvalue**2}\")\n",
    "plt.savefig(\"../output_data/Fig 7.png\")\n",
    "plt.show()\n",
    "print(f\"\\033[1m(Northern Hemisphere  - Humidity (%) vs. Latitude)R square value is:\\033[1m {rvalue**2}\" )\n",
    "print(f\"\\033[1m(Northern Hemisphere  - Humidity (%) vs. Latitude)Linear Regression is:\\033[1m {line_eq}\" )"
   ]
  },
  {
   "cell_type": "markdown",
   "metadata": {},
   "source": [
    "####  Southern Hemisphere - Humidity (%) vs. Latitude Linear Regression"
   ]
  },
  {
   "cell_type": "code",
   "execution_count": 28,
   "metadata": {},
   "outputs": [
    {
     "name": "stdout",
     "output_type": "stream",
     "text": [
      "The r-value is: 0.08410438648566677\n"
     ]
    },
    {
     "data": {
      "image/png": "[encoded data removed]",
      "text/plain": [
       "<Figure size 432x288 with 1 Axes>"
      ]
     },
     "metadata": {
      "needs_background": "light"
     },
     "output_type": "display_data"
    },
    {
     "name": "stdout",
     "output_type": "stream",
     "text": [
      "\u001b[1m(Southern Hemisphere- Humidity (%) vs. Latitude)R square value is:\u001b[1m 0.08410438648566677\n",
      "\u001b[1m(Southern Hemisphere- Humidity (%) vs. Latitude)Linear Regression is:\u001b[1m y = 0.24x + 82.48\n"
     ]
    }
   ],
   "source": [
    "x_values = Southern_Hemisphere_data['Lat']\n",
    "y_values = Southern_Hemisphere_data['Humidity']\n",
    "(slope, intercept, rvalue, pvalue, stderr) = linregress(x_values, y_values)\n",
    "regress_values = x_values * slope + intercept\n",
    "line_eq = \"y = \" + str(round(slope,2)) + \"x + \" + str(round(intercept,2))\n",
    "plt.scatter(x_values,y_values)\n",
    "plt.plot(x_values,regress_values,\"r-\")\n",
    "plt.title(f'{line_eq}',color = 'r', fontsize = 14)\n",
    "plt.xlabel('Latitude')\n",
    "plt.ylabel('Humidity(%)')\n",
    "print(f\"The r-value is: {rvalue**2}\")\n",
    "plt.savefig(\"../output_data/Fig 8.png\")\n",
    "plt.show()\n",
    "print(f\"\\033[1m(Southern Hemisphere- Humidity (%) vs. Latitude)R square value is:\\033[1m {rvalue**2}\" )\n",
    "print(f\"\\033[1m(Southern Hemisphere- Humidity (%) vs. Latitude)Linear Regression is:\\033[1m {line_eq}\" )"
   ]
  },
  {
   "cell_type": "markdown",
   "metadata": {},
   "source": [
    "####  Northern Hemisphere - Cloudiness (%) vs. Latitude Linear Regression"
   ]
  },
  {
   "cell_type": "code",
   "execution_count": 29,
   "metadata": {},
   "outputs": [
    {
     "name": "stdout",
     "output_type": "stream",
     "text": [
      "The r-value is: 0.0017958455396795555\n"
     ]
    },
    {
     "data": {
      "image/png": "[encoded data removed]",
      "text/plain": [
       "<Figure size 432x288 with 1 Axes>"
      ]
     },
     "metadata": {
      "needs_background": "light"
     },
     "output_type": "display_data"
    },
    {
     "name": "stdout",
     "output_type": "stream",
     "text": [
      "\u001b[1m(Northern Hemisphere  - Cloudiness(%) vs. Latitude)R square value is:\u001b[1m 0.0017958455396795555\n",
      "\u001b[1m(Northern Hemisphere  - Cloudiness(%) vs. Latitude)Linear Regression is:\u001b[1m y = -0.06x + 73.1\n"
     ]
    }
   ],
   "source": [
    "x_values = Nothern_Hemisphere_data['Lat']\n",
    "y_values = Nothern_Hemisphere_data['Cloudiness']\n",
    "(slope, intercept, rvalue, pvalue, stderr) = linregress(x_values, y_values)\n",
    "regress_values = x_values * slope + intercept\n",
    "line_eq = \"y = \" + str(round(slope,2)) + \"x + \" + str(round(intercept,2))\n",
    "plt.scatter(x_values,y_values)\n",
    "plt.plot(x_values,regress_values,\"r-\")\n",
    "plt.title(f'{line_eq}',color = 'r', fontsize = 14)\n",
    "plt.xlabel('Latitude')\n",
    "plt.ylabel('Cloudiness(%)')\n",
    "print(f\"The r-value is: {rvalue**2}\")\n",
    "plt.savefig(\"../output_data/Fig 9.png\")\n",
    "plt.show()\n",
    "print(f\"\\033[1m(Northern Hemisphere  - Cloudiness(%) vs. Latitude)R square value is:\\033[1m {rvalue**2}\" )\n",
    "print(f\"\\033[1m(Northern Hemisphere  - Cloudiness(%) vs. Latitude)Linear Regression is:\\033[1m {line_eq}\" )"
   ]
  },
  {
   "cell_type": "markdown",
   "metadata": {},
   "source": [
    "####  Southern Hemisphere - Cloudiness (%) vs. Latitude Linear Regression"
   ]
  },
  {
   "cell_type": "code",
   "execution_count": 30,
   "metadata": {},
   "outputs": [
    {
     "name": "stdout",
     "output_type": "stream",
     "text": [
      "The r-value is: 0.03489845984381127\n"
     ]
    },
    {
     "data": {
      "image/png": "[encoded data removed]",
      "text/plain": [
       "<Figure size 432x288 with 1 Axes>"
      ]
     },
     "metadata": {
      "needs_background": "light"
     },
     "output_type": "display_data"
    },
    {
     "name": "stdout",
     "output_type": "stream",
     "text": [
      "\u001b[1m(Southern Hemisphere- Cloudiness(%) vs. Latitude)R square value is:\u001b[1m 0.03489845984381127\n",
      "\u001b[1m(Southern Hemisphere- Cloudiness(%) vs. Latitude)Linear Regression is:\u001b[1m y = 0.47x + 57.65\n"
     ]
    }
   ],
   "source": [
    "x_values = Southern_Hemisphere_data['Lat']\n",
    "y_values = Southern_Hemisphere_data['Cloudiness']\n",
    "(slope, intercept, rvalue, pvalue, stderr) = linregress(x_values, y_values)\n",
    "regress_values = x_values * slope + intercept\n",
    "line_eq = \"y = \" + str(round(slope,2)) + \"x + \" + str(round(intercept,2))\n",
    "plt.scatter(x_values,y_values)\n",
    "plt.plot(x_values,regress_values,\"r-\")\n",
    "plt.title(f'{line_eq}',color = 'r', fontsize = 14)\n",
    "plt.xlabel('Latitude')\n",
    "plt.ylabel('Cloudiness(%)')\n",
    "print(f\"The r-value is: {rvalue**2}\")\n",
    "plt.savefig(\"../output_data/Fig 10 .png\")\n",
    "plt.show()\n",
    "print(f\"\\033[1m(Southern Hemisphere- Cloudiness(%) vs. Latitude)R square value is:\\033[1m {rvalue**2}\" )\n",
    "print(f\"\\033[1m(Southern Hemisphere- Cloudiness(%) vs. Latitude)Linear Regression is:\\033[1m {line_eq}\" )"
   ]
  },
  {
   "cell_type": "markdown",
   "metadata": {},
   "source": [
    "####  Northern Hemisphere - Wind Speed (mph) vs. Latitude Linear Regression"
   ]
  },
  {
   "cell_type": "code",
   "execution_count": 31,
   "metadata": {},
   "outputs": [
    {
     "name": "stdout",
     "output_type": "stream",
     "text": [
      "The r-value is: 0.001887262662875705\n"
     ]
    },
    {
     "data": {
      "image/png": "[encoded data removed]",
      "text/plain": [
       "<Figure size 432x288 with 1 Axes>"
      ]
     },
     "metadata": {
      "needs_background": "light"
     },
     "output_type": "display_data"
    },
    {
     "name": "stdout",
     "output_type": "stream",
     "text": [
      "\u001b[1m(Northern Hemisphere - Wind Speed(mph) vs. Latitude)R square value is:\u001b[1m 0.001887262662875705\n",
      "\u001b[1m(Northern Hemisphere - Wind Speed(mph) vs. Latitude)Linear Regression is:\u001b[1m y = -0.01x + 8.61\n"
     ]
    }
   ],
   "source": [
    "\n",
    "x_values = Nothern_Hemisphere_data['Lat']\n",
    "y_values = Nothern_Hemisphere_data['Wind Speed']\n",
    "(slope, intercept, rvalue, pvalue, stderr) = linregress(x_values, y_values)\n",
    "regress_values = x_values * slope + intercept\n",
    "line_eq = \"y = \" + str(round(slope,2)) + \"x + \" + str(round(intercept,2))\n",
    "plt.scatter(x_values,y_values)\n",
    "plt.plot(x_values,regress_values,\"r-\")\n",
    "plt.title(f'{line_eq}',color = 'r', fontsize = 14)\n",
    "plt.xlabel('Latitude')\n",
    "plt.ylabel('Wind Speed(mph)')\n",
    "northern_hemisphere_rvalue = rvalue**2\n",
    "print(f\"The r-value is: {rvalue**2}\")\n",
    "plt.savefig(\"../output_data/Fig 11.png\")\n",
    "plt.show()\n",
    "print(f\"\\033[1m(Northern Hemisphere - Wind Speed(mph) vs. Latitude)R square value is:\\033[1m {rvalue**2}\" )\n",
    "print(f\"\\033[1m(Northern Hemisphere - Wind Speed(mph) vs. Latitude)Linear Regression is:\\033[1m {line_eq}\" )"
   ]
  },
  {
   "cell_type": "markdown",
   "metadata": {},
   "source": [
    "####  Southern Hemisphere - Wind Speed (mph) vs. Latitude Linear Regression"
   ]
  },
  {
   "cell_type": "code",
   "execution_count": 32,
   "metadata": {},
   "outputs": [
    {
     "name": "stdout",
     "output_type": "stream",
     "text": [
      "The r-value is: 0.023103723833926695\n"
     ]
    },
    {
     "data": {
      "image/png": "[encoded data removed]",
      "text/plain": [
       "<Figure size 432x288 with 1 Axes>"
      ]
     },
     "metadata": {
      "needs_background": "light"
     },
     "output_type": "display_data"
    },
    {
     "name": "stdout",
     "output_type": "stream",
     "text": [
      "\u001b[1m(Southern Hemisphere-Wind Speed(mph) vs. Latitude)R square value is:\u001b[1m 0.023103723833926695\n",
      "\u001b[1m(Southern Hemisphere-Wind Speed(mph) vs. Latitude)Linear Regression is:\u001b[1m y = -0.07x + 6.56\n"
     ]
    }
   ],
   "source": [
    "x_values = Southern_Hemisphere_data['Lat']\n",
    "y_values = Southern_Hemisphere_data['Wind Speed']\n",
    "(slope, intercept, rvalue, pvalue, stderr) = linregress(x_values, y_values)\n",
    "regress_values = x_values * slope + intercept\n",
    "line_eq = \"y = \" + str(round(slope,2)) + \"x + \" + str(round(intercept,2))\n",
    "plt.scatter(x_values,y_values)\n",
    "plt.plot(x_values,regress_values,\"r-\")\n",
    "plt.title(f'{line_eq}',color = 'r', fontsize = 14)\n",
    "plt.xlabel('Latitude')\n",
    "plt.ylabel('Wind Speed(mph)')\n",
    "print(f\"The r-value is: {rvalue**2}\")\n",
    "plt.savefig(\"../output_data/Fig 12.png\")\n",
    "plt.show()\n",
    "print(f\"\\033[1m(Southern Hemisphere-Wind Speed(mph) vs. Latitude)R square value is:\\033[1m {rvalue**2}\" )\n",
    "print(f\"\\033[1m(Southern Hemisphere-Wind Speed(mph) vs. Latitude)Linear Regression is:\\033[1m {line_eq}\" )"
   ]
  },
  {
   "cell_type": "code",
   "execution_count": null,
   "metadata": {},
   "outputs": [],
   "source": []
  }
 ],
 "metadata": {
  "anaconda-cloud": {},
  "kernel_info": {
   "name": "python3"
  },
  "kernelspec": {
   "display_name": "Python 3",
   "language": "python",
   "name": "python3"
  },
  "language_info": {
   "codemirror_mode": {
    "name": "ipython",
    "version": 3
   },
   "file_extension": ".py",
   "mimetype": "text/x-python",
   "name": "python",
   "nbconvert_exporter": "python",
   "pygments_lexer": "ipython3",
   "version": "3.8.8"
  },
  "latex_envs": {
   "LaTeX_envs_menu_present": true,
   "autoclose": false,
   "autocomplete": true,
   "bibliofile": "biblio.bib",
   "cite_by": "apalike",
   "current_citInitial": 1,
   "eqLabelWithNumbers": true,
   "eqNumInitial": 1,
   "hotkeys": {
    "equation": "Ctrl-E",
    "itemize": "Ctrl-I"
   },
   "labels_anchors": false,
   "latex_user_defs": false,
   "report_style_numbering": false,
   "user_envs_cfg": false
  },
  "nteract": {
   "version": "0.12.3"
  }
 },
 "nbformat": 4,
 "nbformat_minor": 2
}
